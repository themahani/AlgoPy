{
 "cells": [
  {
   "cell_type": "code",
   "execution_count": 17,
   "metadata": {},
   "outputs": [],
   "source": [
    "import numpy as np\n",
    "import pandas as pd\n",
    "import pandas_ta as ta\n",
    "from datetime import datetime as dt\n",
    "\n",
    "from plotly import graph_objects as go"
   ]
  },
  {
   "cell_type": "code",
   "execution_count": 6,
   "metadata": {},
   "outputs": [
    {
     "data": {
      "text/plain": [
       "449400"
      ]
     },
     "execution_count": 6,
     "metadata": {},
     "output_type": "execute_result"
    }
   ],
   "source": [
    "xau = pd.read_csv(\"data/xauusd_1h.csv\", index_col=\"datetime\")\n",
    "xau.size"
   ]
  },
  {
   "cell_type": "code",
   "execution_count": 3,
   "metadata": {},
   "outputs": [],
   "source": [
    "def pivot_high(highs:pd.Series, window:int=14):\n",
    "    len = highs.size\n",
    "    ph = np.zeros(shape=(len, ), dtype=float)\n",
    "    \n",
    "    for i in range(window, len-window):\n",
    "        if highs.iloc[i] == highs.iloc[i-window:i+window].max():\n",
    "            ph[i] = highs.iloc[i]\n",
    "    return ph\n",
    "\n",
    "def pivot_low(lows:pd.Series, window:int=14):\n",
    "    len = lows.size\n",
    "    pl = np.zeros(shape=(len, ), dtype=float)\n",
    "    \n",
    "    for i in range(window, len-window):\n",
    "        if lows.iloc[i] == lows.iloc[i-window:i+window].min():\n",
    "            pl[i] = lows.iloc[i]\n",
    "    return pl"
   ]
  },
  {
   "cell_type": "code",
   "execution_count": 7,
   "metadata": {},
   "outputs": [],
   "source": [
    "xau['ph'] = pivot_high(xau['high'], window=5)\n",
    "xau['pl'] = pivot_high(xau['low'], window=5)"
   ]
  },
  {
   "cell_type": "code",
   "execution_count": 5,
   "metadata": {},
   "outputs": [
    {
     "name": "stdout",
     "output_type": "stream",
     "text": [
      "6738\n",
      "6758\n"
     ]
    }
   ],
   "source": [
    "print((xau['ph'] != 0).sum())\n",
    "print((xau['pl'] != 0).sum())"
   ]
  },
  {
   "cell_type": "code",
   "execution_count": 8,
   "metadata": {},
   "outputs": [],
   "source": [
    "pl_ind = np.where(xau['pl'] != 0)[0]\n",
    "ph_ind = np.where(xau['ph'] != 0)[0]"
   ]
  },
  {
   "cell_type": "code",
   "execution_count": 9,
   "metadata": {},
   "outputs": [],
   "source": [
    "def plot_data(df):\n",
    "    fig = go.Figure(\n",
    "        data=[go.Candlestick(x=df.index,\n",
    "                            close=df['close'],\n",
    "                            open=df['open'],\n",
    "                            low=df['low'],\n",
    "                            high=df['high'])]\n",
    "    )\n",
    "\n",
    "    fig.update_layout(title=\"XAUUSD - H1\",\n",
    "                    xaxis_title=\"Date Time\",\n",
    "                    yaxis_title=\"Price\",\n",
    "                    xaxis=dict(type=\"category\"))\n",
    "\n",
    "    fig.show()"
   ]
  },
  {
   "cell_type": "code",
   "execution_count": null,
   "metadata": {},
   "outputs": [],
   "source": [
    "plot_data(xau.iloc[ph_ind[5]-50:ph_ind[5]+50])"
   ]
  },
  {
   "cell_type": "code",
   "execution_count": 26,
   "metadata": {},
   "outputs": [
    {
     "data": {
      "text/html": [
       "<div>\n",
       "<style scoped>\n",
       "    .dataframe tbody tr th:only-of-type {\n",
       "        vertical-align: middle;\n",
       "    }\n",
       "\n",
       "    .dataframe tbody tr th {\n",
       "        vertical-align: top;\n",
       "    }\n",
       "\n",
       "    .dataframe thead th {\n",
       "        text-align: right;\n",
       "    }\n",
       "</style>\n",
       "<table border=\"1\" class=\"dataframe\">\n",
       "  <thead>\n",
       "    <tr style=\"text-align: right;\">\n",
       "      <th></th>\n",
       "      <th>open</th>\n",
       "      <th>high</th>\n",
       "      <th>low</th>\n",
       "      <th>close</th>\n",
       "    </tr>\n",
       "  </thead>\n",
       "  <tbody>\n",
       "    <tr>\n",
       "      <th>2010-01-03</th>\n",
       "      <td>NaN</td>\n",
       "      <td>NaN</td>\n",
       "      <td>NaN</td>\n",
       "      <td>NaN</td>\n",
       "    </tr>\n",
       "    <tr>\n",
       "      <th>2010-01-04</th>\n",
       "      <td>NaN</td>\n",
       "      <td>NaN</td>\n",
       "      <td>NaN</td>\n",
       "      <td>NaN</td>\n",
       "    </tr>\n",
       "    <tr>\n",
       "      <th>2010-01-05</th>\n",
       "      <td>NaN</td>\n",
       "      <td>NaN</td>\n",
       "      <td>NaN</td>\n",
       "      <td>NaN</td>\n",
       "    </tr>\n",
       "    <tr>\n",
       "      <th>2010-01-06</th>\n",
       "      <td>NaN</td>\n",
       "      <td>NaN</td>\n",
       "      <td>NaN</td>\n",
       "      <td>NaN</td>\n",
       "    </tr>\n",
       "    <tr>\n",
       "      <th>2010-01-07</th>\n",
       "      <td>NaN</td>\n",
       "      <td>NaN</td>\n",
       "      <td>NaN</td>\n",
       "      <td>NaN</td>\n",
       "    </tr>\n",
       "    <tr>\n",
       "      <th>...</th>\n",
       "      <td>...</td>\n",
       "      <td>...</td>\n",
       "      <td>...</td>\n",
       "      <td>...</td>\n",
       "    </tr>\n",
       "    <tr>\n",
       "      <th>2024-10-13</th>\n",
       "      <td>NaN</td>\n",
       "      <td>NaN</td>\n",
       "      <td>NaN</td>\n",
       "      <td>NaN</td>\n",
       "    </tr>\n",
       "    <tr>\n",
       "      <th>2024-10-14</th>\n",
       "      <td>NaN</td>\n",
       "      <td>NaN</td>\n",
       "      <td>NaN</td>\n",
       "      <td>NaN</td>\n",
       "    </tr>\n",
       "    <tr>\n",
       "      <th>2024-10-15</th>\n",
       "      <td>NaN</td>\n",
       "      <td>NaN</td>\n",
       "      <td>NaN</td>\n",
       "      <td>NaN</td>\n",
       "    </tr>\n",
       "    <tr>\n",
       "      <th>2024-10-16</th>\n",
       "      <td>NaN</td>\n",
       "      <td>NaN</td>\n",
       "      <td>NaN</td>\n",
       "      <td>NaN</td>\n",
       "    </tr>\n",
       "    <tr>\n",
       "      <th>2024-10-17</th>\n",
       "      <td>NaN</td>\n",
       "      <td>NaN</td>\n",
       "      <td>NaN</td>\n",
       "      <td>NaN</td>\n",
       "    </tr>\n",
       "  </tbody>\n",
       "</table>\n",
       "<p>4654 rows × 4 columns</p>\n",
       "</div>"
      ],
      "text/plain": [
       "           open high  low close\n",
       "2010-01-03  NaN  NaN  NaN   NaN\n",
       "2010-01-04  NaN  NaN  NaN   NaN\n",
       "2010-01-05  NaN  NaN  NaN   NaN\n",
       "2010-01-06  NaN  NaN  NaN   NaN\n",
       "2010-01-07  NaN  NaN  NaN   NaN\n",
       "...         ...  ...  ...   ...\n",
       "2024-10-13  NaN  NaN  NaN   NaN\n",
       "2024-10-14  NaN  NaN  NaN   NaN\n",
       "2024-10-15  NaN  NaN  NaN   NaN\n",
       "2024-10-16  NaN  NaN  NaN   NaN\n",
       "2024-10-17  NaN  NaN  NaN   NaN\n",
       "\n",
       "[4654 rows x 4 columns]"
      ]
     },
     "execution_count": 26,
     "metadata": {},
     "output_type": "execute_result"
    }
   ],
   "source": [
    "def tf_daily(df:pd.DataFrame):\n",
    "    index = np.unique([str(dt.strptime(x, '%Y-%m-%d %H:%M:%S').date()) for x in df.index])\n",
    "    \n",
    "    daily = pd.DataFrame({}, columns=['open', 'high', 'low', 'close'], index=index)\n",
    "    \n",
    "    return daily\n",
    "\n",
    "tf_daily(xau)"
   ]
  }
 ],
 "metadata": {
  "kernelspec": {
   "display_name": "venv",
   "language": "python",
   "name": "python3"
  },
  "language_info": {
   "codemirror_mode": {
    "name": "ipython",
    "version": 3
   },
   "file_extension": ".py",
   "mimetype": "text/x-python",
   "name": "python",
   "nbconvert_exporter": "python",
   "pygments_lexer": "ipython3",
   "version": "3.12.7"
  }
 },
 "nbformat": 4,
 "nbformat_minor": 2
}
