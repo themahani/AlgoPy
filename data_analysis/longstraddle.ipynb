{
 "cells": [
  {
   "cell_type": "code",
   "execution_count": null,
   "id": "8abebef3",
   "metadata": {},
   "outputs": [],
   "source": [
    "import backtrader as bt\n",
    "import yfinance as yf\n",
    "import pandas as pd\n",
    "\n",
    "from utils.strategies import LongStraddleSimplified\n",
    "from utils.tester import test_strategy, log_results, load_data"
   ]
  },
  {
   "cell_type": "code",
   "execution_count": null,
   "id": "87d12a15",
   "metadata": {},
   "outputs": [],
   "source": [
    "data_names = [\n",
    "    # '^RUT', '^IXIC', '^VIX', \n",
    "    # '^DJI', '^GSPC', \n",
    "    # 'GOOG', 'MSFT', 'AMZN', 'TSLA', \n",
    "    # 'NFLX', 'NVDA', 'AMD'\n",
    "    'BTC-USD', 'ETH-USD', 'BNB-USD', 'DOGE-USD', 'SOL-USD', 'TRX-USD', 'ADA-USD',\n",
    "    'LINK-USD', 'BCH-USD', 'LEO-USD'\n",
    "    ]"
   ]
  },
  {
   "cell_type": "code",
   "execution_count": null,
   "id": "e25a3dfe",
   "metadata": {},
   "outputs": [],
   "source": [
    "# Download SPX500 data from Yahoo Finance\n",
    "yf_params = {'start': '2018-01-01', 'end': '2025-03-01',\n",
    "             'interval': '1d', 'multi_level_index': False, 'auto_adjust': True}\n",
    "\n",
    "feeds = load_data(data_names, yf_params)"
   ]
  },
  {
   "cell_type": "code",
   "execution_count": null,
   "id": "ee6c62a1",
   "metadata": {},
   "outputs": [],
   "source": [
    "strategy_params = dict(\n",
    "                       atr_period=11,\n",
    "                       atr_multiplier=1,\n",
    "                       rrr=2.5,\n",
    ")\n",
    "cerebro_params = dict(percents=2)\n",
    "\n",
    "results = dict()\n",
    "\n",
    "for name, data_feed in feeds.items():\n",
    "    results[name], cereb = test_strategy(LongStraddleSimplified, data_feed, strategy_params, cerebro_params)\n"
   ]
  },
  {
   "cell_type": "code",
   "execution_count": null,
   "id": "981c5131",
   "metadata": {},
   "outputs": [],
   "source": [
    "for name, res in results.items():\n",
    "    log_results(name, res)"
   ]
  }
 ],
 "metadata": {
  "kernelspec": {
   "display_name": "quant",
   "language": "python",
   "name": "python3"
  },
  "language_info": {
   "codemirror_mode": {
    "name": "ipython",
    "version": 3
   },
   "file_extension": ".py",
   "mimetype": "text/x-python",
   "name": "python",
   "nbconvert_exporter": "python",
   "pygments_lexer": "ipython3",
   "version": "3.11.11"
  }
 },
 "nbformat": 4,
 "nbformat_minor": 5
}
