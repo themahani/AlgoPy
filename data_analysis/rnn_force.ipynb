{
 "cells": [
  {
   "cell_type": "code",
   "execution_count": 2,
   "id": "b06fcc45",
   "metadata": {},
   "outputs": [],
   "source": [
    "import numpy as np\n",
    "import pandas as pd\n",
    "\n",
    "import torch\n",
    "import torch.nn as nn\n",
    "\n",
    "import matplotlib.pyplot as plt\n",
    "\n",
    "from tqdm import tqdm"
   ]
  },
  {
   "cell_type": "code",
   "execution_count": 5,
   "id": "0e3d5f05",
   "metadata": {},
   "outputs": [],
   "source": [
    "torch.cuda.empty_cache()"
   ]
  },
  {
   "cell_type": "code",
   "execution_count": 6,
   "id": "5b37ae64",
   "metadata": {},
   "outputs": [
    {
     "name": "stdout",
     "output_type": "stream",
     "text": [
      "cpu\n"
     ]
    }
   ],
   "source": [
    "device = torch.device(\"cuda\" if torch.cuda.is_available() else \"cpu\")\n",
    "print(device)\n"
   ]
  },
  {
   "cell_type": "markdown",
   "id": "f217d52d",
   "metadata": {},
   "source": [
    "## Preprocess the data"
   ]
  },
  {
   "cell_type": "code",
   "execution_count": 7,
   "id": "9545da03",
   "metadata": {},
   "outputs": [
    {
     "data": {
      "text/html": [
       "<div>\n",
       "<style scoped>\n",
       "    .dataframe tbody tr th:only-of-type {\n",
       "        vertical-align: middle;\n",
       "    }\n",
       "\n",
       "    .dataframe tbody tr th {\n",
       "        vertical-align: top;\n",
       "    }\n",
       "\n",
       "    .dataframe thead th {\n",
       "        text-align: right;\n",
       "    }\n",
       "</style>\n",
       "<table border=\"1\" class=\"dataframe\">\n",
       "  <thead>\n",
       "    <tr style=\"text-align: right;\">\n",
       "      <th></th>\n",
       "      <th>datetime</th>\n",
       "      <th>open</th>\n",
       "      <th>high</th>\n",
       "      <th>low</th>\n",
       "      <th>close</th>\n",
       "      <th>volume</th>\n",
       "    </tr>\n",
       "  </thead>\n",
       "  <tbody>\n",
       "    <tr>\n",
       "      <th>0</th>\n",
       "      <td>2020-02-02 23:00:00</td>\n",
       "      <td>1591.197998</td>\n",
       "      <td>1591.197998</td>\n",
       "      <td>1587.751953</td>\n",
       "      <td>1588.687012</td>\n",
       "      <td>547</td>\n",
       "    </tr>\n",
       "    <tr>\n",
       "      <th>1</th>\n",
       "      <td>2020-02-02 23:05:00</td>\n",
       "      <td>1588.734009</td>\n",
       "      <td>1590.536987</td>\n",
       "      <td>1588.064941</td>\n",
       "      <td>1590.447998</td>\n",
       "      <td>372</td>\n",
       "    </tr>\n",
       "    <tr>\n",
       "      <th>2</th>\n",
       "      <td>2020-02-02 23:10:00</td>\n",
       "      <td>1590.500000</td>\n",
       "      <td>1592.167969</td>\n",
       "      <td>1588.849976</td>\n",
       "      <td>1589.462036</td>\n",
       "      <td>606</td>\n",
       "    </tr>\n",
       "    <tr>\n",
       "      <th>3</th>\n",
       "      <td>2020-02-02 23:15:00</td>\n",
       "      <td>1589.421997</td>\n",
       "      <td>1590.144043</td>\n",
       "      <td>1588.848999</td>\n",
       "      <td>1589.894043</td>\n",
       "      <td>242</td>\n",
       "    </tr>\n",
       "    <tr>\n",
       "      <th>4</th>\n",
       "      <td>2020-02-02 23:20:00</td>\n",
       "      <td>1589.943970</td>\n",
       "      <td>1590.021973</td>\n",
       "      <td>1588.385010</td>\n",
       "      <td>1588.942017</td>\n",
       "      <td>246</td>\n",
       "    </tr>\n",
       "  </tbody>\n",
       "</table>\n",
       "</div>"
      ],
      "text/plain": [
       "              datetime         open         high          low        close  \\\n",
       "0  2020-02-02 23:00:00  1591.197998  1591.197998  1587.751953  1588.687012   \n",
       "1  2020-02-02 23:05:00  1588.734009  1590.536987  1588.064941  1590.447998   \n",
       "2  2020-02-02 23:10:00  1590.500000  1592.167969  1588.849976  1589.462036   \n",
       "3  2020-02-02 23:15:00  1589.421997  1590.144043  1588.848999  1589.894043   \n",
       "4  2020-02-02 23:20:00  1589.943970  1590.021973  1588.385010  1588.942017   \n",
       "\n",
       "   volume  \n",
       "0     547  \n",
       "1     372  \n",
       "2     606  \n",
       "3     242  \n",
       "4     246  "
      ]
     },
     "execution_count": 7,
     "metadata": {},
     "output_type": "execute_result"
    }
   ],
   "source": [
    "data = pd.read_csv('../data/xau_usd_5m.csv')\n",
    "\n",
    "data.head()"
   ]
  },
  {
   "cell_type": "code",
   "execution_count": 8,
   "id": "312d817f",
   "metadata": {},
   "outputs": [],
   "source": [
    "# Preprocess the data for RNN\n",
    "\n",
    "data['datetime'] = pd.to_datetime(data['datetime'])\n",
    "data.set_index('datetime', inplace=True)"
   ]
  },
  {
   "cell_type": "code",
   "execution_count": null,
   "id": "ca6c0220",
   "metadata": {},
   "outputs": [],
   "source": [
    "from sklearn.preprocessing import MinMaxScaler\n",
    "from sklearn.model_selection import train_test_split\n",
    "from sklearn.metrics import mean_squared_error\n",
    "\n",
    "# Select the features and target variable\n",
    "features = ['open', 'high', 'low', 'close', 'volume']\n",
    "target_param = 'close'\n",
    "# Scale the features\n",
    "scaler = MinMaxScaler()\n",
    "data[features] = scaler.fit_transform(data[features])\n",
    "# Split the data into training and testing sets\n",
    "# train_data, test_data = train_test_split(data, test_size=0.2, shuffle=False)\n",
    "\n",
    "# Convert the data to PyTorch tensors\n",
    "start, end = 0, 1000\n",
    "train_data = data.iloc[start:end]\n",
    "train_data_tensor = torch.tensor(train_data[features].values, dtype=torch.float32).to(device)\n",
    "train_target_tensor = torch.tensor(train_data[target_param].values, dtype=torch.float32).unsqueeze(1).to(device)\n",
    "# test_data_tensor = torch.tensor(test_data[features].values, dtype=torch.float32).to(device)\n",
    "# test_target_tensor = torch.tensor(test_data[target_param].values, dtype=torch.float32).unsqueeze(1).to(device)"
   ]
  },
  {
   "cell_type": "code",
   "execution_count": 10,
   "id": "a56a7ee0",
   "metadata": {},
   "outputs": [
    {
     "name": "stdout",
     "output_type": "stream",
     "text": [
      "torch.Size([1000, 5])\n",
      "torch.Size([1000, 1])\n"
     ]
    }
   ],
   "source": [
    "print(train_data_tensor.shape)\n",
    "print(train_target_tensor.shape)"
   ]
  },
  {
   "cell_type": "markdown",
   "id": "4438f9c5",
   "metadata": {},
   "source": [
    "## Define the RNN model"
   ]
  },
  {
   "cell_type": "code",
   "execution_count": 11,
   "id": "c1d337ad",
   "metadata": {},
   "outputs": [],
   "source": [
    "class Rnn(nn.Module):\n",
    "    def __init__(self, input_size, rnn_size):\n",
    "        super(Rnn, self).__init__()\n",
    "        self.rnn = nn.RNN(input_size, rnn_size, batch_first=True)\n",
    "\n",
    "    def forward(self, x):\n",
    "        out, _ = self.rnn(x)\n",
    "        return out\n",
    "    \n",
    "    def predict(self, x):\n",
    "        with torch.no_grad():\n",
    "            x = torch.tensor(x, dtype=torch.float32)\n",
    "            x = x.unsqueeze(0)\n",
    "            out = self.forward(x)\n",
    "            return out.squeeze(0).numpy()"
   ]
  },
  {
   "cell_type": "code",
   "execution_count": 13,
   "id": "221b53d8",
   "metadata": {},
   "outputs": [],
   "source": [
    "class RnnForce:\n",
    "    def __init__(self, input_size, rnn_size, output_size, device:torch.device, ridge_reg:float=0.01, lambda_:float=0.99):\n",
    "        self.rnn = Rnn(input_size, rnn_size)\n",
    "        self.device = device\n",
    "        \n",
    "        # RLS params\n",
    "        self.dec = torch.zeros(rnn_size, output_size, device=device)\n",
    "        self.Pinv = torch.eye(rnn_size, device=device) * ridge_reg\n",
    "        self.lambda_ = lambda_\n",
    "        self.rnn_size = rnn_size\n",
    "        self.output_size = output_size\n",
    "        self.input_size = input_size\n",
    "        \n",
    "        \n",
    "    def rls(self, x, y):\n",
    "        # RLS update\n",
    "        x = x.view(-1, self.rnn_size)\n",
    "        y = y.view(-1, self.output_size)\n",
    "        \n",
    "        # Compute the Kalman gain\n",
    "        u = self.Pinv @ x.T\n",
    "        K = u / (self.lambda_ + x @ u)\n",
    "        # Update the inverse covariance matrix\n",
    "        self.Pinv = (self.Pinv - K @ x @ self.Pinv) / self.lambda_\n",
    "        # Update the weights\n",
    "        self.dec = self.dec + K @ (y - x @ self.dec)\n",
    "        \n",
    "    def train(self, x, y):\n",
    "        # Forward pass\n",
    "        x = x.view(-1, self.input_size)\n",
    "        out = self.rnn(x)\n",
    "        # RLS update\n",
    "        self.rls(out, y)\n",
    "    \n",
    "    def predict(self, x):\n",
    "        # Forward pass\n",
    "        x = x.view(-1, 1, self.input_size)\n",
    "        # Get the RNN output\n",
    "        out = self.rnn(x)\n",
    "        # Compute the prediction\n",
    "        y_pred = out @ self.dec\n",
    "        return y_pred.squeeze(0).detach().numpy()\n",
    "        "
   ]
  },
  {
   "cell_type": "code",
   "execution_count": null,
   "id": "fc693a1a",
   "metadata": {},
   "outputs": [
    {
     "name": "stderr",
     "output_type": "stream",
     "text": [
      "100%|██████████| 1000/1000 [02:06<00:00,  7.90it/s]\n"
     ]
    }
   ],
   "source": [
    "# Train the RNN model\n",
    "input_size = len(features)\n",
    "rnn_size = 1000\n",
    "output_size = 1\n",
    "rnnf = RnnForce(input_size, rnn_size, output_size, device=device, ridge_reg=0.01, lambda_=0.99)\n",
    "\n",
    "# Train the model on the training set\n",
    "preds_on_train = []\n",
    "for i in tqdm(range(train_data_tensor.shape[0])):\n",
    "    x = train_data_tensor[i]\n",
    "    y = train_target_tensor[i]\n",
    "    rnnf.train(x, y)\n",
    "    \n",
    "    # Predict the next value\n",
    "    y_pred = rnnf.predict(x)\n",
    "    preds_on_train.append(y_pred)\n",
    "\n",
    "preds_on_train_arr = np.array(preds_on_train)"
   ]
  },
  {
   "cell_type": "code",
   "execution_count": 22,
   "id": "db41bfc8",
   "metadata": {},
   "outputs": [],
   "source": [
    "preds_on_train_arr = preds_on_train_arr.reshape(-1, 1)\n",
    "\n",
    "# preds_on_train_arr_unscaled = scaler.inverse_transform(preds_on_train_arr)\n",
    "# train_target_tensor_unscaled = scaler.inverse_transform(train_target_tensor.cpu().numpy())"
   ]
  },
  {
   "cell_type": "code",
   "execution_count": 24,
   "id": "fd0983b5",
   "metadata": {},
   "outputs": [
    {
     "name": "stdout",
     "output_type": "stream",
     "text": [
      "Training RMSE: 0.0183\n"
     ]
    }
   ],
   "source": [
    "# Compute the RMSE on the training set\n",
    "rmse_train = np.sqrt(mean_squared_error(train_target_tensor.numpy(), preds_on_train_arr))\n",
    "print(f'Training RMSE: {rmse_train:.4f}')"
   ]
  },
  {
   "cell_type": "code",
   "execution_count": 25,
   "id": "f9c2b9c3",
   "metadata": {},
   "outputs": [
    {
     "data": {
      "image/png": "[encoded data removed]",
      "text/plain": [
       "<Figure size 640x480 with 1 Axes>"
      ]
     },
     "metadata": {},
     "output_type": "display_data"
    }
   ],
   "source": [
    "plt.plot(train_target_tensor.cpu().numpy(), label='True')\n",
    "plt.plot(preds_on_train_arr, label='Predicted')\n",
    "plt.legend()\n",
    "plt.show()"
   ]
  }
 ],
 "metadata": {
  "kernelspec": {
   "display_name": "quant",
   "language": "python",
   "name": "python3"
  },
  "language_info": {
   "codemirror_mode": {
    "name": "ipython",
    "version": 3
   },
   "file_extension": ".py",
   "mimetype": "text/x-python",
   "name": "python",
   "nbconvert_exporter": "python",
   "pygments_lexer": "ipython3",
   "version": "3.11.11"
  }
 },
 "nbformat": 4,
 "nbformat_minor": 5
}
