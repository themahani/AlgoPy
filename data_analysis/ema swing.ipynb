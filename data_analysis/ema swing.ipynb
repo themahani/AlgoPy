{
 "cells": [
  {
   "cell_type": "code",
   "execution_count": null,
   "id": "858bdb3d",
   "metadata": {},
   "outputs": [],
   "source": [
    "import backtrader as bt\n",
    "import pandas as pd\n",
    "import yfinance as yf\n",
    "import numpy as np\n",
    "\n",
    "from utils.tester import log_results, test_strategy\n",
    "from utils.strategies import EMASwing"
   ]
  },
  {
   "cell_type": "markdown",
   "id": "3eede157",
   "metadata": {},
   "source": [
    "## Source data locally"
   ]
  },
  {
   "cell_type": "code",
   "execution_count": null,
   "id": "20151568",
   "metadata": {},
   "outputs": [],
   "source": [
    "data_local = pd.read_csv(\"../data/xauusd_1h.csv\", index_col=None)\n",
    "data_local['datetime'] = pd.to_datetime(data_local['datetime'])\n",
    "print(data_local.head())\n",
    "\n",
    "data_feed_local = bt.feeds.PandasData(dataname=data_local, name=\"xau\",\n",
    "                                      datetime=0, openinterest=-1,\n",
    "                                      open=1,\n",
    "                                      high=2,\n",
    "                                      low=3,\n",
    "                                      close=4,\n",
    "                                      volume=5)"
   ]
  },
  {
   "cell_type": "markdown",
   "id": "cf8b1f83",
   "metadata": {},
   "source": [
    "## Download Data from YF"
   ]
  },
  {
   "cell_type": "code",
   "execution_count": null,
   "id": "54b698be",
   "metadata": {},
   "outputs": [],
   "source": [
    "# Download SPX500 data from Yahoo Finance\n",
    "yf_params = {'start': '2023-06-01', 'end': '2025-01-01',\n",
    "             'interval': '1h', 'multi_level_index': False, 'auto_adjust': True}\n",
    "data_names = ['^RUT', '^IXIC', '^DJI', '^GSPC', '^VIX', 'GOOG', 'MSFT', 'AMZN', 'TSLA', \n",
    "              'NFLX', 'NVDA', 'AMD']\n",
    "\n",
    "datas = dict()\n",
    "for name in data_names:\n",
    "    datas[name] = yf.download(tickers=name, **yf_params)\n",
    "\n",
    "\n",
    "for name, data in datas.items():\n",
    "    data.reset_index(inplace=True)\n",
    "    data['Datetime'] = pd.to_datetime(data['Datetime'])\n",
    "    print(f\"{name}: from {data['Datetime'].iloc[0]} to {data['Datetime'].iloc[-1]}\")\n",
    "\n",
    "data_feeds = dict()\n",
    "for name, data in datas.items():\n",
    "    data_feeds[name] = bt.feeds.pandafeed.PandasData(\n",
    "        name=name,\n",
    "        dataname=data,\n",
    "        datetime=0,\n",
    "        openinterest=-1,\n",
    "        open=1,\n",
    "        high=2,\n",
    "        low=3,\n",
    "        close=4,\n",
    "        volume=5,\n",
    "    )"
   ]
  },
  {
   "cell_type": "markdown",
   "id": "1bd19823",
   "metadata": {},
   "source": [
    "# Start Backtesting"
   ]
  },
  {
   "cell_type": "code",
   "execution_count": null,
   "id": "b9d3332f",
   "metadata": {},
   "outputs": [],
   "source": [
    "strategy_params = dict(ema_period=21,\n",
    "                       atr_period=9,\n",
    "                       atr_multiplier=1.5,\n",
    "                       rrr=1.5,\n",
    ")\n",
    "results = dict()\n",
    "\n",
    "for name, data_feed in data_feeds.items():\n",
    "    results[name], cereb = test_strategy(EMASwing, data_feed, strategy_params)"
   ]
  },
  {
   "cell_type": "code",
   "execution_count": null,
   "id": "dc9d5a62",
   "metadata": {},
   "outputs": [],
   "source": [
    "for name, res in results.items():\n",
    "    log_results(name, res)"
   ]
  }
 ],
 "metadata": {
  "kernelspec": {
   "display_name": "venv",
   "language": "python",
   "name": "python3"
  },
  "language_info": {
   "codemirror_mode": {
    "name": "ipython",
    "version": 3
   },
   "file_extension": ".py",
   "mimetype": "text/x-python",
   "name": "python",
   "nbconvert_exporter": "python",
   "pygments_lexer": "ipython3",
   "version": "3.12.7"
  }
 },
 "nbformat": 4,
 "nbformat_minor": 5
}
