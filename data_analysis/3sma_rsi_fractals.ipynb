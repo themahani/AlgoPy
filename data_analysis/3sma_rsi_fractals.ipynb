{
 "cells": [
  {
   "cell_type": "code",
   "execution_count": null,
   "id": "858bdb3d",
   "metadata": {},
   "outputs": [],
   "source": [
    "import backtrader as bt\n",
    "import pandas as pd\n",
    "import yfinance as yf\n",
    "import numpy as np\n",
    "\n",
    "from utils.tester import log_results, test_strategy, load_data\n",
    "from utils.strategies import TriplleMARSIFracStrategy"
   ]
  },
  {
   "cell_type": "markdown",
   "id": "3eede157",
   "metadata": {},
   "source": [
    "## Source data locally"
   ]
  },
  {
   "cell_type": "code",
   "execution_count": null,
   "id": "20151568",
   "metadata": {},
   "outputs": [],
   "source": [
    "data_local = pd.read_csv(\"../data/xauusd_1h.csv\", index_col=None)\n",
    "data_local['datetime'] = pd.to_datetime(data_local['datetime'])\n",
    "print(data_local.head())\n",
    "\n",
    "data_feed_local = bt.feeds.PandasData(dataname=data_local, name=\"xau\",\n",
    "                                      datetime=0, openinterest=-1,\n",
    "                                      open=1,\n",
    "                                      high=2,\n",
    "                                      low=3,\n",
    "                                      close=4,\n",
    "                                      volume=5)\n",
    "\n",
    "data_feeds_local = dict(xau=data_feed_local)"
   ]
  },
  {
   "cell_type": "markdown",
   "id": "cf8b1f83",
   "metadata": {},
   "source": [
    "## Download Data from YF"
   ]
  },
  {
   "cell_type": "code",
   "execution_count": null,
   "id": "54b698be",
   "metadata": {},
   "outputs": [],
   "source": [
    "# Download SPX500 data from Yahoo Finance\n",
    "yf_params = {'start': '2018-06-01', 'end': '2025-01-01',\n",
    "             'interval': '1d', 'multi_level_index': False, 'auto_adjust': True}\n",
    "data_names = [\n",
    "    # '^RUT', '^IXIC', '^VIX',\n",
    "    # '^DJI', '^GSPC', 'GOOG', 'MSFT', 'AMZN', 'TSLA', \n",
    "            #   'NFLX', 'NVDA', 'AMD', 'KO',\n",
    "              'BTC-USD', 'ETH-USD', 'BNB-USD', 'DOGE-USD', 'SOL-USD'\n",
    "              ]\n",
    "\n",
    "feeds = load_data(data_names, yf_params)"
   ]
  },
  {
   "cell_type": "markdown",
   "id": "1bd19823",
   "metadata": {},
   "source": [
    "# Start Backtesting"
   ]
  },
  {
   "cell_type": "code",
   "execution_count": null,
   "id": "b9d3332f",
   "metadata": {},
   "outputs": [],
   "source": [
    "strategy_params = dict(\n",
    "                       atr_period=11,\n",
    "                       atr_multiplier=1,\n",
    "                       rrr=2.5,\n",
    ")\n",
    "cerebro_params = dict(percents=2)\n",
    "results = dict()\n",
    "\n",
    "for name, feed in feeds.items():\n",
    "    results[name], cereb = test_strategy(TriplleMARSIFracStrategy, feed, strategy_params, cerebro_params)\n",
    "    # cereb.plot(iplot=True)"
   ]
  },
  {
   "cell_type": "code",
   "execution_count": null,
   "id": "025bc75d",
   "metadata": {},
   "outputs": [],
   "source": [
    "for name, res in results.items():\n",
    "    log_results(name, res)"
   ]
  }
 ],
 "metadata": {
  "kernelspec": {
   "display_name": "venv",
   "language": "python",
   "name": "python3"
  },
  "language_info": {
   "codemirror_mode": {
    "name": "ipython",
    "version": 3
   },
   "file_extension": ".py",
   "mimetype": "text/x-python",
   "name": "python",
   "nbconvert_exporter": "python",
   "pygments_lexer": "ipython3",
   "version": "3.12.7"
  }
 },
 "nbformat": 4,
 "nbformat_minor": 5
}
