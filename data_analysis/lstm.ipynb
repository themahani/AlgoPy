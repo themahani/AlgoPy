{
 "cells": [
  {
   "cell_type": "code",
   "execution_count": 1,
   "metadata": {},
   "outputs": [],
   "source": [
    "import numpy as np\n",
    "import pandas as pd\n",
    "# import pandas_ta as ta\n",
    "from datetime import datetime as dt\n",
    "\n",
    "from plotly import graph_objects as go"
   ]
  },
  {
   "cell_type": "code",
   "execution_count": null,
   "metadata": {},
   "outputs": [],
   "source": [
    "xau = pd.read_csv(\"../data/xauusd_1h.csv\", index_col=\"datetime\")\n",
    "xau.size"
   ]
  },
  {
   "cell_type": "code",
   "execution_count": 3,
   "metadata": {},
   "outputs": [],
   "source": [
    "def pivot_high(highs:pd.Series, window:int=14):\n",
    "    len = highs.size\n",
    "    ph = np.zeros(shape=(len, ), dtype=float)\n",
    "    \n",
    "    for i in range(window, len-window):\n",
    "        if highs.iloc[i] == highs.iloc[i-window:i+window].max():\n",
    "            ph[i] = highs.iloc[i]\n",
    "    return ph\n",
    "\n",
    "def pivot_low(lows:pd.Series, window:int=14):\n",
    "    len = lows.size\n",
    "    pl = np.zeros(shape=(len, ), dtype=float)\n",
    "    \n",
    "    for i in range(window, len-window):\n",
    "        if lows.iloc[i] == lows.iloc[i-window:i+window].min():\n",
    "            pl[i] = lows.iloc[i]\n",
    "    return pl"
   ]
  },
  {
   "cell_type": "code",
   "execution_count": 4,
   "metadata": {},
   "outputs": [],
   "source": [
    "xau['ph'] = pivot_high(xau['high'], window=5)\n",
    "xau['pl'] = pivot_low(xau['low'], window=5)"
   ]
  },
  {
   "cell_type": "code",
   "execution_count": null,
   "metadata": {},
   "outputs": [],
   "source": [
    "print((xau['ph'] != 0).sum())\n",
    "print((xau['pl'] != 0).sum())"
   ]
  },
  {
   "cell_type": "code",
   "execution_count": 9,
   "metadata": {},
   "outputs": [],
   "source": [
    "def plot_data(df):\n",
    "    fig = go.Figure(\n",
    "        data=[go.Candlestick(x=df.index,\n",
    "                            close=df['close'],\n",
    "                            open=df['open'],\n",
    "                            low=df['low'],\n",
    "                            high=df['high']),\n",
    "              go.Scatter(x=df.loc[df['pl'] != 0].index,\n",
    "                         y=df['pl'].loc[df['pl'] != 0],\n",
    "                         mode='markers',\n",
    "                         fillcolor='magenta',\n",
    "                         name=\"Pivot Low\"),\n",
    "              go.Scatter(x=df.loc[df['ph'] != 0].index,\n",
    "                         y=df['ph'].loc[df['ph'] != 0],\n",
    "                         mode='markers',\n",
    "                         fillcolor='green',\n",
    "                         name=\"Pivot High\")]\n",
    "    )\n",
    "\n",
    "    fig.update_layout(title=\"XAUUSD - H1\",\n",
    "                    xaxis_title=\"Date Time\",\n",
    "                    yaxis_title=\"Price\",\n",
    "                    xaxis=dict(type=\"category\"),\n",
    "                    width=1200,\n",
    "                    height=800,\n",
    "                    # frame_bgcolor='black',\n",
    "                    # paper_bgcolor='black'\n",
    "                    )\n",
    "\n",
    "    fig.show()"
   ]
  },
  {
   "cell_type": "code",
   "execution_count": null,
   "metadata": {},
   "outputs": [],
   "source": [
    "plot_data(xau.iloc[ph_ind[5]-50:ph_ind[5]+50])"
   ]
  },
  {
   "cell_type": "markdown",
   "metadata": {},
   "source": [
    "# Machine Learning on the OHLC"
   ]
  },
  {
   "cell_type": "markdown",
   "metadata": {},
   "source": [
    "## Data Preporcessing"
   ]
  },
  {
   "cell_type": "code",
   "execution_count": null,
   "metadata": {},
   "outputs": [],
   "source": [
    "xau.columns"
   ]
  },
  {
   "cell_type": "code",
   "execution_count": null,
   "metadata": {},
   "outputs": [],
   "source": [
    "columns = ['open', 'high', 'low', 'close']\n",
    "\n",
    "xau_hlc = xau[columns]\n",
    "\n",
    "xau_hlc.shape"
   ]
  },
  {
   "cell_type": "code",
   "execution_count": 5,
   "metadata": {},
   "outputs": [],
   "source": [
    "from sklearn.model_selection import train_test_split\n",
    "from sklearn.preprocessing import MinMaxScaler\n",
    "\n",
    "seq_length = 20     # 20 bars as a sequence to go into the ML algorithm\n",
    "scaler = MinMaxScaler()\n",
    "data_scaled = scaler.fit_transform(xau_hlc)"
   ]
  },
  {
   "cell_type": "code",
   "execution_count": 6,
   "metadata": {},
   "outputs": [],
   "source": [
    "X, y = [], []\n",
    "for i in range(seq_length, data_scaled.shape[0]-1):\n",
    "    X.append(data_scaled[i-seq_length:i])\n",
    "    y.append(data_scaled[i+1, 1:4])      # we want to predict the high, low, close only. since open is already optained.\n",
    "\n",
    "X, y = np.array(X), np.array(y)"
   ]
  },
  {
   "cell_type": "code",
   "execution_count": null,
   "metadata": {},
   "outputs": [],
   "source": [
    "X.shape, y.shape"
   ]
  },
  {
   "cell_type": "code",
   "execution_count": 69,
   "metadata": {},
   "outputs": [],
   "source": [
    "## Train Test Split\n",
    "# Train:        70%\n",
    "# Cross Val:    15%\n",
    "# Test:         15%\n",
    "\n",
    "X_train, X_temp, y_train, y_temp = train_test_split(X, y, test_size=0.3, random_state=42)\n",
    "X_val, X_test, y_val, y_test = train_test_split(X_temp, y_temp, test_size=0.5, random_state=42)"
   ]
  },
  {
   "cell_type": "code",
   "execution_count": 70,
   "metadata": {},
   "outputs": [],
   "source": [
    "import torch\n",
    "\n",
    "torch.set_default_device('cpu')\n",
    "device = torch.device('cuda')\n",
    "\n",
    "# Convert to PyTorch tensors\n",
    "X_train, y_train = torch.tensor(X_train, dtype=torch.float32), torch.tensor(y_train, dtype=torch.float32)\n",
    "X_val, y_val = torch.tensor(X_val, dtype=torch.float32), torch.tensor(y_val, dtype=torch.float32)\n",
    "X_test, y_test = torch.tensor(X_test, dtype=torch.float32), torch.tensor(y_test, dtype=torch.float32)\n"
   ]
  },
  {
   "cell_type": "code",
   "execution_count": null,
   "metadata": {},
   "outputs": [],
   "source": [
    "X_train.shape, y_train.shape, X_train.device"
   ]
  },
  {
   "cell_type": "code",
   "execution_count": 72,
   "metadata": {},
   "outputs": [],
   "source": [
    "## Creating the dataloader class for batch processing\n",
    "\n",
    "from torch.utils.data import Dataset, DataLoader\n",
    "\n",
    "# Dataset and DataLoader\n",
    "class TimeSeriesDataset(Dataset):\n",
    "    def __init__(self, inputs, targets):\n",
    "        self.inputs = inputs\n",
    "        self.targets = targets\n",
    "\n",
    "    def __len__(self):\n",
    "        return len(self.inputs)\n",
    "\n",
    "    def __getitem__(self, idx):\n",
    "        return self.inputs[idx], self.targets[idx]\n"
   ]
  },
  {
   "cell_type": "code",
   "execution_count": 73,
   "metadata": {},
   "outputs": [],
   "source": [
    "## Load the data\n",
    "\n",
    "train_dataset = TimeSeriesDataset(X_train, y_train)\n",
    "val_dataset = TimeSeriesDataset(X_val, y_val)\n",
    "test_dataset = TimeSeriesDataset(X_test, y_test)\n",
    "\n",
    "\n",
    "batch_size = 32\n",
    "train_loader = DataLoader(train_dataset, batch_size=batch_size, shuffle=True)\n",
    "val_loader = DataLoader(val_dataset, batch_size=batch_size)"
   ]
  },
  {
   "cell_type": "markdown",
   "metadata": {},
   "source": [
    "## Defining the LSTM model"
   ]
  },
  {
   "cell_type": "code",
   "execution_count": 74,
   "metadata": {},
   "outputs": [],
   "source": [
    "from torch import nn\n",
    "\n",
    "class LSTMModel(nn.Module):\n",
    "    def __init__(self, input_size, hidden_size, num_layers, output_size):\n",
    "        super(LSTMModel, self).__init__()\n",
    "        self.lstm = nn.LSTM(input_size, hidden_size, num_layers, batch_first=True)\n",
    "        self.fc = nn.Linear(hidden_size, output_size)\n",
    "\n",
    "    def forward(self, x):\n",
    "        _, (hn, _) = self.lstm(x)\n",
    "        x = self.fc(hn[-1])  # Take the output of the last LSTM layer\n",
    "        return x"
   ]
  },
  {
   "cell_type": "markdown",
   "metadata": {},
   "source": [
    "## Train the Model"
   ]
  },
  {
   "cell_type": "code",
   "execution_count": 78,
   "metadata": {},
   "outputs": [],
   "source": [
    "input_size = len(columns)\n",
    "hidden_size = 64\n",
    "num_layers = 4\n",
    "output_size = 3\n",
    "\n",
    "model = LSTMModel(input_size, hidden_size, num_layers, output_size).to(device)\n",
    "criterion = nn.MSELoss()\n",
    "optimizer = torch.optim.Adam(model.parameters(), lr=0.001)\n",
    "\n"
   ]
  },
  {
   "cell_type": "code",
   "execution_count": null,
   "metadata": {},
   "outputs": [],
   "source": [
    "# Training Loop\n",
    "epochs = 20\n",
    "\n",
    "train_losses = []\n",
    "val_losses = []\n",
    "\n",
    "for epoch in range(epochs):\n",
    "    model.train()\n",
    "    train_loss = 0\n",
    "    for X_batch, y_batch in train_loader:\n",
    "        optimizer.zero_grad()\n",
    "        predictions = model(X_batch.to(device))\n",
    "        loss = criterion(predictions, y_batch.to(device))\n",
    "        loss.backward()\n",
    "        optimizer.step()\n",
    "        train_loss += loss.item()\n",
    "    train_loss /= len(train_loader)\n",
    "    train_losses.append(train_loss)\n",
    "    \n",
    "    # Validation\n",
    "    model.eval()\n",
    "    val_loss = 0\n",
    "    with torch.no_grad():\n",
    "        for X_batch, y_batch in val_loader:\n",
    "            predictions = model(X_batch.to(device))\n",
    "            loss = criterion(predictions, y_batch.to(device))\n",
    "            val_loss += loss.item()\n",
    "    val_loss /= len(val_loader)\n",
    "    val_losses.append(val_loss)\n",
    "\n",
    "    print(f\"Epoch {epoch+1}/{epochs}, Train Loss: {train_loss:.8f}, Val Loss: {val_loss:.8f}\")\n"
   ]
  },
  {
   "cell_type": "code",
   "execution_count": null,
   "metadata": {},
   "outputs": [],
   "source": [
    "length = len(val_losses)\n",
    "\n",
    "import matplotlib.pyplot as plt\n",
    "\n",
    "plt.plot(range(length), train_losses, 'go-', label=\"train\")\n",
    "plt.plot(range(length), val_losses, 'bo-', label=\"cross val\")\n",
    "plt.legend(loc=0)\n",
    "plt.grid(alpha=0.5)\n",
    "plt.show()"
   ]
  },
  {
   "cell_type": "markdown",
   "metadata": {},
   "source": [
    "## Evaluate the model using the test data"
   ]
  },
  {
   "cell_type": "code",
   "execution_count": null,
   "metadata": {},
   "outputs": [],
   "source": [
    "# Evaluation\n",
    "model.eval()\n",
    "test_loss = 0\n",
    "with torch.no_grad():\n",
    "    for X_batch, y_batch in DataLoader(test_dataset, batch_size=32):\n",
    "        predictions = model(X_batch.to(device))\n",
    "        loss = criterion(predictions, y_batch.to(device))\n",
    "        test_loss += loss.item()\n",
    "test_loss /= len(test_dataset)\n",
    "print(f\"Test Loss: {test_loss:.8f}\")"
   ]
  },
  {
   "cell_type": "code",
   "execution_count": 85,
   "metadata": {},
   "outputs": [],
   "source": [
    "def inverse_transform_pred(pred:np.ndarray, columns:list):\n",
    "    placeholder = np.zeros((pred.shape[0], len(columns)))\n",
    "\n",
    "    # Fill in the predicted values into the appropriate columns\n",
    "    placeholder[:, 1:4] = pred\n",
    "\n",
    "    # Inverse transform the scaled data\n",
    "    predicted_actual = scaler.inverse_transform(placeholder)\n",
    "\n",
    "    # Extract the actual 'High', 'Low', 'Close' columns\n",
    "    predicted_actual_values = predicted_actual[:, 1:4]\n",
    "    return predicted_actual_values"
   ]
  },
  {
   "cell_type": "code",
   "execution_count": null,
   "metadata": {},
   "outputs": [],
   "source": [
    "with torch.no_grad():\n",
    "    sample_predictions = model(X_test[:5].to(device)).cpu().numpy()\n",
    "print(\"Sample Predictions:\\n\", sample_predictions)\n",
    "print(\"True values:\\n\", y_test[:5].numpy())"
   ]
  },
  {
   "cell_type": "code",
   "execution_count": null,
   "metadata": {},
   "outputs": [],
   "source": [
    "pred = inverse_transform_pred(sample_predictions, columns)\n",
    "pred"
   ]
  },
  {
   "cell_type": "code",
   "execution_count": 94,
   "metadata": {},
   "outputs": [],
   "source": [
    "i = 15\n",
    "\n",
    "sample_X = X_test[i]\n",
    "with torch.no_grad():\n",
    "    sample_y = model(sample_X.to(device)).cpu().numpy()\n",
    "sample_X = sample_X.numpy()\n",
    "actual_y = y_test[i].numpy()\n",
    "\n",
    "sample_X = scaler.inverse_transform(sample_X)\n",
    "sample_y = inverse_transform_pred(sample_y, columns).reshape(-1, 1)\n",
    "actual_y = inverse_transform_pred(actual_y, columns).reshape(-1, 1)"
   ]
  },
  {
   "cell_type": "code",
   "execution_count": null,
   "metadata": {},
   "outputs": [],
   "source": [
    "from matplotlib import pyplot as plt\n",
    "\n",
    "length = len(sample_X)\n",
    "\n",
    "plt.plot(np.arange(length), sample_X[:, -1], 'bo-', label='X data')\n",
    "plt.plot(length, sample_y[-1], 'go', label=\"Y pred\")\n",
    "plt.plot(length, actual_y[-1], 'ro', label=\"Y true\")\n",
    "plt.grid(alpha=.5)\n",
    "plt.ylabel(\"Close Price\")\n",
    "plt.legend(loc=0)\n",
    "plt.show()\n"
   ]
  },
  {
   "cell_type": "code",
   "execution_count": null,
   "metadata": {},
   "outputs": [],
   "source": [
    "length = len(sample_X)\n",
    "\n",
    "fig = go.Figure(data=[\n",
    "    go.Candlestick(x=np.arange(length),\n",
    "                   open=sample_X[:, 0],\n",
    "                   high=sample_X[:, 1],\n",
    "                   low=sample_X[:, 2],\n",
    "                   close=sample_X[:, 3],\n",
    "                   name=\"X data\"),\n",
    "    go.Candlestick(x=(length, ),\n",
    "                   open=(sample_X[-1, 3], ),       # Open of new candle is the close of last candle :)\n",
    "                   high=(sample_y[0], ),\n",
    "                   low=(sample_y[1], ),\n",
    "                   close=(sample_y[2], ),\n",
    "                   name=\"Y pred\"),\n",
    "    go.Candlestick(x=(length+1, ),\n",
    "                   open=(actual_y[-1, 0], ),       # Open of new candle is the close of last candle :)\n",
    "                   high=(actual_y[0], ),\n",
    "                   low=(actual_y[1], ),\n",
    "                   close=(actual_y[2], ),\n",
    "                   name=\"Y true\")\n",
    "])\n",
    "\n",
    "fig.update_layout(\n",
    "    width=1200,\n",
    "    height=800,\n",
    "    title=\"Sample prediction vs. true value\",\n",
    "    xaxis_title=\"i_th bar\",\n",
    "    yaxis_title=\"Price\"\n",
    ")"
   ]
  }
 ],
 "metadata": {
  "kernelspec": {
   "display_name": "quant",
   "language": "python",
   "name": "python3"
  },
  "language_info": {
   "codemirror_mode": {
    "name": "ipython",
    "version": 3
   },
   "file_extension": ".py",
   "mimetype": "text/x-python",
   "name": "python",
   "nbconvert_exporter": "python",
   "pygments_lexer": "ipython3",
   "version": "3.11.11"
  }
 },
 "nbformat": 4,
 "nbformat_minor": 2
}
