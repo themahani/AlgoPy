{
 "cells": [
  {
   "cell_type": "code",
   "execution_count": null,
   "metadata": {},
   "outputs": [],
   "source": [
    "import numpy as np\n",
    "import pandas as pd\n",
    "import pandas_ta as ta\n",
    "\n",
    "from plotly import graph_objects as go\n",
    "from tqdm import tqdm"
   ]
  },
  {
   "cell_type": "code",
   "execution_count": null,
   "metadata": {},
   "outputs": [],
   "source": [
    "xau = pd.read_csv(\"data/xauusd_1h.csv\", index_col=\"datetime\", parse_dates=['datetime'])\n",
    "xau.head()"
   ]
  },
  {
   "cell_type": "code",
   "execution_count": null,
   "metadata": {},
   "outputs": [],
   "source": [
    "xau.index[0]"
   ]
  },
  {
   "cell_type": "code",
   "execution_count": null,
   "metadata": {},
   "outputs": [],
   "source": [
    "def pivot_high(highs:pd.Series, window:int=14):\n",
    "    len = highs.size\n",
    "    ph = np.zeros(shape=(len, ), dtype=float)\n",
    "    \n",
    "    for i in range(window, len-window):\n",
    "        if highs.iloc[i] == highs.iloc[i-window:i+window].max():\n",
    "            ph[i] = highs.iloc[i]\n",
    "    return ph\n",
    "\n",
    "def pivot_low(lows:pd.Series, window:int=14):\n",
    "    len = lows.size\n",
    "    pl = np.zeros(shape=(len, ), dtype=float)\n",
    "    \n",
    "    for i in range(window, len-window):\n",
    "        if lows.iloc[i] == lows.iloc[i-window:i+window].min():\n",
    "            pl[i] = lows.iloc[i]\n",
    "    return pl"
   ]
  },
  {
   "cell_type": "code",
   "execution_count": null,
   "metadata": {},
   "outputs": [],
   "source": [
    "def pivots(highs:pd.Series, lows:pd.Series, window:int) -> pd.Series:\n",
    "    len = highs.size\n",
    "    if lows.size != len:\n",
    "        raise BufferError(\"`highs` and `lows` must have the same size!\")\n",
    "    pivots = pd.Series(data=0, index=highs.index)\n",
    "    last_pivot = -1\n",
    "    last_pivot_index = 0\n",
    "    for i in tqdm(range(window, len-window)):\n",
    "        if highs.iloc[i] == highs.iloc[i-window:i+window].max():\n",
    "            if last_pivot == 1 and highs.iloc[last_pivot_index] < highs.iloc[i]:     # Previous pivot is a lower pivot high?!\n",
    "                pivots.iloc[last_pivot_index] = 0       # Invalidate the previous pivot high\n",
    "                last_pivot_index = i                    # Set new pivot high\n",
    "                pivots.iloc[last_pivot_index] = last_pivot\n",
    "            elif last_pivot == -1:  # Previous pivot is a pivot low?!\n",
    "                last_pivot_index = i            # Set pivot high\n",
    "                last_pivot = 1\n",
    "                pivots.iloc[last_pivot_index] = last_pivot\n",
    "        elif lows.iloc[i] == lows.iloc[i-window:i+window].min():\n",
    "            if last_pivot == -1 and lows.iloc[last_pivot_index] > lows.iloc[i]:    # Previous pivot is a higher pivot low?!\n",
    "                pivots.iloc[last_pivot_index] = 0       # Invalidate the previous pivot low\n",
    "                last_pivot_index = i                    # Set new pivot low\n",
    "                pivots.iloc[last_pivot_index] = last_pivot\n",
    "            elif last_pivot == 1:       # Previous pivot is a pivot high\n",
    "                last_pivot_index = i            # Set pivot low\n",
    "                last_pivot = -1\n",
    "                pivots.iloc[last_pivot_index] = last_pivot\n",
    "    return pivots"
   ]
  },
  {
   "cell_type": "code",
   "execution_count": null,
   "metadata": {},
   "outputs": [],
   "source": [
    "xau['pivots'] = pivots(xau['high'], xau['low'], window=7)"
   ]
  },
  {
   "cell_type": "code",
   "execution_count": null,
   "metadata": {},
   "outputs": [],
   "source": [
    "xau[xau['pivots'] == -1]['pivots'].size"
   ]
  },
  {
   "cell_type": "code",
   "execution_count": null,
   "metadata": {},
   "outputs": [],
   "source": [
    "def plot_data(df):\n",
    "    fig = go.Figure(\n",
    "        data=[go.Candlestick(x=df.index,\n",
    "                            close=df['close'],\n",
    "                            open=df['open'],\n",
    "                            low=df['low'],\n",
    "                            high=df['high'])]\n",
    "    )\n",
    "\n",
    "    fig.update_layout(title=\"XAUUSD - H1\",\n",
    "                    xaxis_title=\"Date Time\",\n",
    "                    yaxis_title=\"Price\",\n",
    "                    xaxis=dict(type=\"category\"))\n",
    "\n",
    "    fig.show()"
   ]
  },
  {
   "cell_type": "code",
   "execution_count": null,
   "metadata": {},
   "outputs": [],
   "source": [
    "where = np.where(xau['pivots'] == 1)[0]\n",
    "print(where)"
   ]
  },
  {
   "cell_type": "code",
   "execution_count": null,
   "metadata": {},
   "outputs": [],
   "source": [
    "plot_data(xau.iloc[where[5]-50:where[5]+50])"
   ]
  },
  {
   "cell_type": "code",
   "execution_count": null,
   "metadata": {},
   "outputs": [],
   "source": [
    "def head_and_shoulders(df:pd.DataFrame) -> pd.Series:\n",
    "    if ['pivots', 'open', 'close'] not in df.columns:\n",
    "        raise ValueError(\"The columns `['pivots', 'open', 'close']` must exist...\")\n",
    "\n",
    "    buy_sell = pd.Series(data=0, index=df.index)\n",
    "    len = df.size\n",
    "    for i in range(len):\n",
    "        pass\n",
    "    \n",
    "    return buy_sell"
   ]
  }
 ],
 "metadata": {
  "kernelspec": {
   "display_name": "venv",
   "language": "python",
   "name": "python3"
  },
  "language_info": {
   "codemirror_mode": {
    "name": "ipython",
    "version": 3
   },
   "file_extension": ".py",
   "mimetype": "text/x-python",
   "name": "python",
   "nbconvert_exporter": "python",
   "pygments_lexer": "ipython3",
   "version": "3.12.7"
  }
 },
 "nbformat": 4,
 "nbformat_minor": 2
}
