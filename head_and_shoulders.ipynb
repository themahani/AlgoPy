{
 "cells": [
  {
   "cell_type": "code",
   "execution_count": 1,
   "metadata": {},
   "outputs": [],
   "source": [
    "import numpy as np\n",
    "import pandas as pd\n",
    "import pandas_ta as ta\n",
    "\n",
    "from plotly import graph_objects as go"
   ]
  },
  {
   "cell_type": "code",
   "execution_count": null,
   "metadata": {},
   "outputs": [],
   "source": [
    "xau = pd.read_csv(\"data/xauusd_1h.csv\", index_col=\"datetime\")\n",
    "xau.head()"
   ]
  },
  {
   "cell_type": "code",
   "execution_count": 4,
   "metadata": {},
   "outputs": [],
   "source": [
    "def pivot_high(highs:pd.Series, window:int=14):\n",
    "    len = highs.size\n",
    "    ph = np.zeros(shape=(len, ), dtype=float)\n",
    "    \n",
    "    for i in range(window, len-window):\n",
    "        if highs.iloc[i] == highs.iloc[i-window:i+window].max():\n",
    "            ph[i] = highs.iloc[i]\n",
    "    return ph\n",
    "\n",
    "def pivot_low(lows:pd.Series, window:int=14):\n",
    "    len = lows.size\n",
    "    pl = np.zeros(shape=(len, ), dtype=float)\n",
    "    \n",
    "    for i in range(window, len-window):\n",
    "        if lows.iloc[i] == lows.iloc[i-window:i+window].min():\n",
    "            pl[i] = lows.iloc[i]\n",
    "    return pl"
   ]
  },
  {
   "cell_type": "code",
   "execution_count": 5,
   "metadata": {},
   "outputs": [],
   "source": [
    "xau['ph'] = pivot_high(xau['high'], window=14)\n",
    "xau['pl'] = pivot_high(xau['low'], window=14)"
   ]
  },
  {
   "cell_type": "code",
   "execution_count": null,
   "metadata": {},
   "outputs": [],
   "source": [
    "print((xau['ph'] != 0).sum())\n",
    "print((xau['pl'] != 0).sum())"
   ]
  },
  {
   "cell_type": "code",
   "execution_count": 9,
   "metadata": {},
   "outputs": [],
   "source": [
    "pl_ind = np.where(xau['pl'] != 0)[0]\n",
    "ph_ind = np.where(xau['ph'] != 0)[0]"
   ]
  },
  {
   "cell_type": "code",
   "execution_count": 7,
   "metadata": {},
   "outputs": [],
   "source": [
    "def plot_data(df):\n",
    "    fig = go.Figure(\n",
    "        data=[go.Candlestick(x=df.index,\n",
    "                            close=df['close'],\n",
    "                            open=df['open'],\n",
    "                            low=df['low'],\n",
    "                            high=df['high'])]\n",
    "    )\n",
    "\n",
    "    fig.update_layout(title=\"XAUUSD - H1\",\n",
    "                    xaxis_title=\"Date Time\",\n",
    "                    yaxis_title=\"Price\",\n",
    "                    xaxis=dict(type=\"category\"))\n",
    "\n",
    "    fig.show()"
   ]
  },
  {
   "cell_type": "code",
   "execution_count": null,
   "metadata": {},
   "outputs": [],
   "source": [
    "plot_data(xau.iloc[ph_ind[5]-50:ph_ind[5]+50])"
   ]
  }
 ],
 "metadata": {
  "kernelspec": {
   "display_name": "venv",
   "language": "python",
   "name": "python3"
  },
  "language_info": {
   "codemirror_mode": {
    "name": "ipython",
    "version": 3
   },
   "file_extension": ".py",
   "mimetype": "text/x-python",
   "name": "python",
   "nbconvert_exporter": "python",
   "pygments_lexer": "ipython3",
   "version": "3.12.7"
  }
 },
 "nbformat": 4,
 "nbformat_minor": 2
}
