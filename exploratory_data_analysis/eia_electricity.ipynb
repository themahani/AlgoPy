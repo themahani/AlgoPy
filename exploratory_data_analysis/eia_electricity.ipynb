{
 "cells": [
  {
   "cell_type": "code",
   "execution_count": 1,
   "id": "6e6dfb4a",
   "metadata": {},
   "outputs": [],
   "source": [
    "# Data management\n",
    "import numpy as np\n",
    "import pandas as pd\n",
    "# Plotting\n",
    "import matplotlib.pyplot as plt\n",
    "import seaborn as sns\n",
    "# Web requests\n",
    "from requests import request\n",
    "# Env files import\n",
    "import os, sys"
   ]
  },
  {
   "cell_type": "code",
   "execution_count": 9,
   "id": "7e414481",
   "metadata": {},
   "outputs": [],
   "source": [
    "sys.path.append(os.path.join(os.getcwd(), \"..\"))"
   ]
  },
  {
   "cell_type": "code",
   "execution_count": 21,
   "id": "9cc93c72",
   "metadata": {},
   "outputs": [],
   "source": [
    "EIA_API_KEY = os.environ.get(\"EIA_API_KEY\")\n",
    "\n",
    "response = request(method='GET', url=f\"https://api.eia.gov/v2/electricity/retail-sales?api_key={EIA_API_KEY}\")"
   ]
  },
  {
   "cell_type": "code",
   "execution_count": null,
   "id": "14d14865",
   "metadata": {},
   "outputs": [],
   "source": [
    "import json\n",
    "\n",
    "res_json = json.loads(response.content)\n",
    "res_json"
   ]
  }
 ],
 "metadata": {
  "kernelspec": {
   "display_name": "venv",
   "language": "python",
   "name": "python3"
  },
  "language_info": {
   "codemirror_mode": {
    "name": "ipython",
    "version": 3
   },
   "file_extension": ".py",
   "mimetype": "text/x-python",
   "name": "python",
   "nbconvert_exporter": "python",
   "pygments_lexer": "ipython3",
   "version": "3.12.7"
  }
 },
 "nbformat": 4,
 "nbformat_minor": 5
}
