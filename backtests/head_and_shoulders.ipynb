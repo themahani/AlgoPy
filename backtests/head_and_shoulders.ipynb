{
 "cells": [
  {
   "cell_type": "code",
   "execution_count": null,
   "metadata": {},
   "outputs": [],
   "source": [
    "import numpy as np\n",
    "import pandas as pd\n",
    "import pandas_ta as ta\n",
    "\n",
    "from plotly import graph_objects as go\n",
    "from tqdm import tqdm\n",
    "\n",
    "import logging\n",
    "\n",
    "log = logging.Logger(name=\"logger\", level=logging.INFO)"
   ]
  },
  {
   "cell_type": "code",
   "execution_count": null,
   "metadata": {},
   "outputs": [],
   "source": [
    "xau = pd.read_csv(\"../data/xauusd_1h.csv\", index_col=\"datetime\", parse_dates=['datetime'])\n",
    "xau.head()"
   ]
  },
  {
   "cell_type": "code",
   "execution_count": null,
   "metadata": {},
   "outputs": [],
   "source": [
    "xau.index[0]"
   ]
  },
  {
   "cell_type": "code",
   "execution_count": null,
   "metadata": {},
   "outputs": [],
   "source": [
    "def pivot_high(highs:pd.Series, window:int=14):\n",
    "    len = highs.size\n",
    "    ph = np.zeros(shape=(len, ), dtype=float)\n",
    "    \n",
    "    for i in range(window, len-window):\n",
    "        if highs.iloc[i] == highs.iloc[i-window:i+window].max():\n",
    "            ph[i] = highs.iloc[i]\n",
    "    return ph\n",
    "\n",
    "def pivot_low(lows:pd.Series, window:int=14):\n",
    "    len = lows.size\n",
    "    pl = np.zeros(shape=(len, ), dtype=float)\n",
    "    \n",
    "    for i in range(window, len-window):\n",
    "        if lows.iloc[i] == lows.iloc[i-window:i+window].min():\n",
    "            pl[i] = lows.iloc[i]\n",
    "    return pl"
   ]
  },
  {
   "cell_type": "code",
   "execution_count": null,
   "metadata": {},
   "outputs": [],
   "source": [
    "def pivots(highs:pd.Series, lows:pd.Series, window:int) -> pd.Series:\n",
    "    len = highs.size\n",
    "    if lows.size != len:\n",
    "        raise BufferError(\"`highs` and `lows` must have the same size!\")\n",
    "    pivots = pd.Series(data=0, index=highs.index)\n",
    "    pivot_values = pd.Series(data=0, index=highs.index, dtype=np.float64)\n",
    "    last_pivot = -1\n",
    "    last_pivot_index = 0\n",
    "    # last_pivot_value = highs.iloc[0]\n",
    "    \n",
    "    for i in tqdm(range(window, len-window)):\n",
    "        if highs.iloc[i] == highs.iloc[i-window:i+window].max():\n",
    "            if last_pivot == 1 and highs.iloc[last_pivot_index] < highs.iloc[i]:     # Previous pivot is a lower pivot high?!\n",
    "                pivots.iloc[last_pivot_index] = 0       # Invalidate the previous pivot high\n",
    "                pivot_values.iloc[last_pivot_index] = 0\n",
    "                last_pivot_index = i                    # Set new pivot high\n",
    "                pivots.iloc[last_pivot_index] = last_pivot\n",
    "                pivot_values.iloc[last_pivot_index] = highs.iloc[last_pivot_index]\n",
    "            elif last_pivot == -1:  # Previous pivot is a pivot low?!\n",
    "                last_pivot_index = i            # Set pivot high\n",
    "                last_pivot = 1\n",
    "                pivots.iloc[last_pivot_index] = last_pivot\n",
    "                pivot_values.iloc[last_pivot_index] = highs.iloc[last_pivot_index]\n",
    "        elif lows.iloc[i] == lows.iloc[i-window:i+window].min():\n",
    "            if last_pivot == -1 and lows.iloc[last_pivot_index] > lows.iloc[i]:    # Previous pivot is a higher pivot low?!\n",
    "                pivots.iloc[last_pivot_index] = 0       # Invalidate the previous pivot low\n",
    "                pivot_values.iloc[last_pivot_index] = 0\n",
    "                last_pivot_index = i                    # Set new pivot low\n",
    "                pivots.iloc[last_pivot_index] = last_pivot\n",
    "                pivot_values.iloc[last_pivot_index] = lows.iloc[last_pivot_index]\n",
    "            elif last_pivot == 1:       # Previous pivot is a pivot high\n",
    "                last_pivot_index = i            # Set pivot low\n",
    "                last_pivot = -1\n",
    "                pivots.iloc[last_pivot_index] = last_pivot\n",
    "                pivot_values.iloc[last_pivot_index] = lows.iloc[last_pivot_index]\n",
    "    return pivots, pivot_values"
   ]
  },
  {
   "cell_type": "code",
   "execution_count": null,
   "metadata": {},
   "outputs": [],
   "source": [
    "xau['pivots'], xau['pivot_values'] = pivots(xau['high'], xau['low'], window=2)"
   ]
  },
  {
   "cell_type": "code",
   "execution_count": null,
   "metadata": {},
   "outputs": [],
   "source": [
    "def plot_data(df):\n",
    "    fig = go.Figure(\n",
    "        data=[go.Candlestick(x=df.index,\n",
    "                            close=df['close'],\n",
    "                            open=df['open'],\n",
    "                            low=df['low'],\n",
    "                            high=df['high'])]\n",
    "    )\n",
    "\n",
    "    fig.update_layout(title=\"XAUUSD - H1\",\n",
    "                    xaxis_title=\"Date Time\",\n",
    "                    yaxis_title=\"Price\",\n",
    "                    xaxis=dict(type=\"category\"))\n",
    "\n",
    "    fig.show()"
   ]
  },
  {
   "cell_type": "code",
   "execution_count": null,
   "metadata": {},
   "outputs": [],
   "source": [
    "xau[xau['pivots'] == 1].index\n",
    "\n"
   ]
  },
  {
   "cell_type": "code",
   "execution_count": null,
   "metadata": {},
   "outputs": [],
   "source": [
    "xau['pivot_values'].loc[xau['pivot_values'] != 0]"
   ]
  },
  {
   "cell_type": "code",
   "execution_count": null,
   "metadata": {},
   "outputs": [],
   "source": [
    "def head_and_shoulders(df:pd.DataFrame, threshold:int, log:logging.Logger) -> pd.Series:\n",
    "    # if ['pivots', 'open', 'close'] not in df.columns.to_list():\n",
    "        # raise ValueError(\"The columns `['pivots', 'open', 'close']` must exist...\")\n",
    "\n",
    "    buy_sell = pd.Series(data=0, index=df.index)\n",
    "    len = df.shape[0]\n",
    "    print(len, end=\"\\n\\n\\n\")\n",
    "    pip_value = 0.1\n",
    "    \n",
    "    pivots_iloc = np.where(df['pivots'] != 0)[0]\n",
    "    pivots_index = df.iloc[pivots_iloc].index\n",
    "    \n",
    "    for i in tqdm(range(len)):\n",
    "        prev_5_pivots_index = pivots_index[pivots_index < df.index[i]]\n",
    "        # print(prev_5_pivots_index)\n",
    "        if prev_5_pivots_index.size < 5:\n",
    "            continue\n",
    "        else:\n",
    "            prev_5_pivots_index = prev_5_pivots_index[-5:]\n",
    "        prev_5_pivots = df['pivots'].loc[prev_5_pivots_index]\n",
    "        prev_5_pivot_values = df['pivot_values'].loc[prev_5_pivots_index]\n",
    "\n",
    "        if prev_5_pivots.loc[prev_5_pivots_index[0]] == 1:\n",
    "            log.info(\"Start pivot high on left shoulder!\")\n",
    "            # if np.abs(prev_5_pivot_values.iloc[0] - prev_5_pivot_values.iloc[4]) < threshold * pip_value:\n",
    "            shoulders = prev_5_pivot_values.iloc[0]\n",
    "            if np.abs(prev_5_pivot_values.iloc[1] - prev_5_pivot_values.iloc[3]) < threshold * pip_value:\n",
    "                neck_line = prev_5_pivot_values.iloc[1]\n",
    "                if prev_5_pivot_values.iloc[2] > prev_5_pivot_values.iloc[0]:\n",
    "                    if df['close'].iloc[i-1] < neck_line and df['open'].iloc[i-1] > neck_line:\n",
    "                        buy_sell.iloc[i] = -1   # Sell\n",
    "\n",
    "        elif prev_5_pivots.loc[prev_5_pivots_index[0]] == -1:\n",
    "                    log.info(\"Start pivot low on left shoulder!\")\n",
    "                    # if np.abs(prev_5_pivot_values.iloc[0] - prev_5_pivot_values.iloc[4]) < threshold * pip_value:\n",
    "                    shoulders = prev_5_pivot_values.iloc[0]\n",
    "                    if np.abs(prev_5_pivot_values.iloc[1] - prev_5_pivot_values.iloc[3]) < threshold * pip_value:\n",
    "                        neck_line = prev_5_pivot_values.iloc[1]\n",
    "                        if prev_5_pivot_values.iloc[2] < prev_5_pivot_values.iloc[0]:\n",
    "                            if df['close'].iloc[i-1] > neck_line and df['open'].iloc[i-1] < neck_line:\n",
    "                                buy_sell.iloc[i] = 1   # Buy\n",
    "    return buy_sell"
   ]
  },
  {
   "cell_type": "code",
   "execution_count": null,
   "metadata": {},
   "outputs": [],
   "source": [
    "log.setLevel(logging.INFO)\n",
    "buy_sell = head_and_shoulders(xau, 10, log=log)"
   ]
  },
  {
   "cell_type": "code",
   "execution_count": null,
   "metadata": {},
   "outputs": [],
   "source": [
    "xau['buy_sell'] = buy_sell\n",
    "\n",
    "buy_sell.loc[buy_sell != 0].count()"
   ]
  },
  {
   "cell_type": "code",
   "execution_count": null,
   "metadata": {},
   "outputs": [],
   "source": [
    "buy_sell.index.size, xau.index.size"
   ]
  },
  {
   "cell_type": "code",
   "execution_count": null,
   "metadata": {},
   "outputs": [],
   "source": [
    "\n",
    "def plot_candlestick(df:pd.DataFrame):\n",
    "    fig = go.Figure(data=[go.Candlestick(\n",
    "        x=df.index,\n",
    "        close=df.close,\n",
    "        open=df.open,\n",
    "        high=df.high,\n",
    "        low=df.low,\n",
    "        # name=\"XAU_USD -- H1 -- OANDA\",\n",
    "        )])\n",
    "\n",
    "    fig.update_layout(\n",
    "        width=1200,\n",
    "        height=800,\n",
    "        plot_bgcolor='black',\n",
    "        paper_bgcolor='black',\n",
    "        font=dict(color='white'),\n",
    "        xaxis=dict(type='category',\n",
    "                   showgrid=False,\n",
    "                   zeroline=False),\n",
    "        yaxis=dict(showgrid=False,\n",
    "                   zeroline=False)\n",
    "    )\n",
    "\n",
    "    fig.show()"
   ]
  },
  {
   "cell_type": "code",
   "execution_count": null,
   "metadata": {},
   "outputs": [],
   "source": [
    "plot_candlestick(xau.iloc[0:500])"
   ]
  },
  {
   "cell_type": "code",
   "execution_count": null,
   "metadata": {},
   "outputs": [],
   "source": [
    "xau_cap = xau.rename(columns={\n",
    "    'open': 'Open',\n",
    "    'high': 'High',\n",
    "    'low': 'Low',\n",
    "    'close': 'Close',\n",
    "    'volume': 'Volume'\n",
    "})"
   ]
  },
  {
   "cell_type": "code",
   "execution_count": null,
   "metadata": {},
   "outputs": [],
   "source": [
    "import backtrader as bt\n",
    "from backtesting.backtesting import Strategy\n",
    "from backtesting.lib import Sequence\n",
    "\n",
    "class SIGNAL(bt.Indicator):\n",
    "    lines = ('signal', )\n",
    "    params = ()\n",
    "    def __init__(self):\n",
    "        self.lines.signal = bt.feeds.PandasData(dataname=pd.DataFrame(xau['buy_sell'], columns=['buy_sell']))\n",
    "\n",
    "def signal():\n",
    "    return xau['buy_sell']\n",
    "\n",
    "\n",
    "class HnSStrategy(Strategy):       \n",
    "    sl_points = 400\n",
    "    point_size = .01\n",
    "    rrr = 2.5\n",
    "    lot_size = 0.1\n",
    "\n",
    "    def init(self):\n",
    "        super().init()\n",
    "        self.signal = self.I(signal, name=\"BUY/SELL\")\n",
    "\n",
    "    def next(self):\n",
    "        super().next()\n",
    "        if self.position:\n",
    "            return\n",
    "\n",
    "        if self.signal == -1:\n",
    "            sl = self.data.Close[-1] + self.sl_points * self.point_size\n",
    "            print(self.data.Close[-1])\n",
    "            tp = self.data.Close[-1] - self.rrr * self.sl_points * self.point_size\n",
    "            self.sell(size=self.lot_size, sl=sl, tp=tp, limit=None)\n",
    "        elif self.signal == 1:\n",
    "            sl = self.data.Close[-1] - self.sl_points * self.point_size\n",
    "            print(self.data.Close[-1])\n",
    "            tp = self.data.Close[-1] + self.rrr * self.sl_points * self.point_size\n",
    "            self.buy(size=self.lot_size, sl=sl, tp=tp, limit=None)"
   ]
  },
  {
   "cell_type": "code",
   "execution_count": null,
   "metadata": {},
   "outputs": [],
   "source": [
    "from backtesting.backtesting import Backtest\n",
    "\n",
    "params = {'sl_points': 200,\n",
    "          'rrr': 1.5}\n",
    "\n",
    "bt = Backtest(data=xau_cap, strategy=HnSStrategy, cash=100_000.0, commission=0)\n",
    "\n",
    "results = bt.run()"
   ]
  },
  {
   "cell_type": "code",
   "execution_count": null,
   "metadata": {},
   "outputs": [],
   "source": [
    "from matplotlib import pyplot as plt\n",
    "\n",
    "results['_equity_curve'].plot(y='Equity')\n",
    "plt.show()\n"
   ]
  },
  {
   "cell_type": "code",
   "execution_count": null,
   "metadata": {},
   "outputs": [],
   "source": [
    "results['_equity_curve']['DrawdownPct'].plot()\n",
    "plt.show()"
   ]
  }
 ],
 "metadata": {
  "kernelspec": {
   "display_name": "quant",
   "language": "python",
   "name": "python3"
  },
  "language_info": {
   "codemirror_mode": {
    "name": "ipython",
    "version": 3
   },
   "file_extension": ".py",
   "mimetype": "text/x-python",
   "name": "python",
   "nbconvert_exporter": "python",
   "pygments_lexer": "ipython3",
   "version": "3.11.11"
  }
 },
 "nbformat": 4,
 "nbformat_minor": 2
}
